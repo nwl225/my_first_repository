{
 "cells": [
  {
   "cell_type": "markdown",
   "metadata": {},
   "source": [
    "# Data Bootcamp Mini-Exam #1  \n",
    "\n",
    "NYU Stern School of Business | February 2018\n",
    "\n",
    "Please answer the questions below in this Jupyter notebook.  Add cells as needed.  When you're done, **save it** and **email** it to [nyudatabootcamp@gmail.com](nyudatabootcamp@gmail.com). Make sure you have the correct file.  **Doing this correctly is worth 10 points.**"
   ]
  },
  {
   "cell_type": "markdown",
   "metadata": {},
   "source": [
    "### Question 0\n",
    "\n",
    "<!-- This question is so we can grade the exams, but also tests basic skills in working with notebooks -->\n",
    "\n",
    "* Change the file name by adding `_YourLastName` to it in the textbox at the top.  \n",
    "* Add a markdown cell directly *below* this one that includes your name in bold, your student number, and your email address.  \n",
    "\n",
    "(10 points)"
   ]
  },
  {
   "cell_type": "markdown",
   "metadata": {},
   "source": [
    "**Wing Lau**\n",
    "\n",
    "**N13084302**\n",
    "\n",
    "**nwl225@stern.nyu.edu**"
   ]
  },
  {
   "cell_type": "markdown",
   "metadata": {},
   "source": [
    "## Question 1\n",
    "\n",
    "<!-- This question is about tooling basics and markdown formatting -->\n",
    "\n",
    "For each of the parts below, please create a new markdown cell that contains your answer. Each markdown cell should have a heading that looks like  `### Part X` , where `X` is the part label (a, b, c, or d).\n",
    "\n",
    "(a) What type of document is this exam written in?\n",
    "\n",
    "(b) If you have questions about how to do something in Python, what resources do you have to find an answer? Please give at least 3 and put them in a bullet point list.\n",
    "\n",
    "(c) Where can you find the course website and book? Give your answer by creating two links with the text `website` and `book` so that when the links are clicked the browser goes to the proper website.\n",
    "\n",
    "(d) (challenging) What syntax do you use to create code-like cells in a markdown cell? That is make make your answer appear like python code. (Hint 1: the answer should contain ` ```python `, a blank line, your code, and ` ``` `) (Hint 2: if Hint 1 wasn't clear, look at the text in some of the questions below.)\n",
    "\n",
    "(20 points)"
   ]
  },
  {
   "cell_type": "markdown",
   "metadata": {},
   "source": [
    "### a)\n",
    "The exam is written in iPython notebook.\n",
    "\n",
    "### b)\n",
    "* help()\n",
    "* \"function you are enquiring about\"?\n",
    "* the help button in the toolbar\n",
    "\n",
    "### c)"
   ]
  },
  {
   "cell_type": "markdown",
   "metadata": {},
   "source": [
    "Course site :(http://nyu.data-bootcamp.com/)\n",
    "\n",
    "Book: (https://nyudatabootcamp.gitbooks.io/data-bootcamp/content/py-fun1.html)"
   ]
  },
  {
   "cell_type": "markdown",
   "metadata": {},
   "source": [
    "### d)\n",
    "You can create code-like cells in markdown by adding triple backticks (```) between the code"
   ]
  },
  {
   "cell_type": "markdown",
   "metadata": {},
   "source": [
    "## Question 2\n",
    "\n",
    "<!-- This question should be about string methods -->\n",
    "\n",
    "Consider the following string\n",
    "\n",
    "```python\n",
    "my_string = \"Thi; i; A ;tring\"\n",
    "```\n",
    "\n",
    "Using string methods, do the following and print the results:\n",
    "\n",
    "**Warning**: Do not save the results back into `my_string` -- You should be using the original `my_string = \"Thi; i; A ;tring\"` for each of the following parts. Recall that string methods are \"making copies\" so it won't modify the original string unless you assign it back to `my_string`\n",
    "\n",
    "(a) Make `my_string` lowercase.\n",
    "\n",
    "(b) Remove all spaces from `my_string`.\n",
    "\n",
    "(c) Remove the punctuation and replace it with `s`\n",
    "\n",
    "(c) Compare `my_string.split(maxsplit = 1)` to `my_string.rsplit(maxsplit = 1)`? Are they the same? Different? What do you think happened? What type does each operation deliver?\n",
    "\n",
    "(d) Can you use the methods above to modify the string so it says \"This is a String\" **If you don't notice, I want only the first letter of the first and last word capitalized.** \n",
    "\n",
    "(20 points)"
   ]
  },
  {
   "cell_type": "markdown",
   "metadata": {},
   "source": [
    "### a)"
   ]
  },
  {
   "cell_type": "code",
   "execution_count": 5,
   "metadata": {
    "collapsed": true
   },
   "outputs": [],
   "source": [
    "my_string = \"Thi; i; A ;tring\""
   ]
  },
  {
   "cell_type": "code",
   "execution_count": 7,
   "metadata": {},
   "outputs": [
    {
     "data": {
      "text/plain": [
       "'thi; i; a ;tring'"
      ]
     },
     "execution_count": 7,
     "metadata": {},
     "output_type": "execute_result"
    }
   ],
   "source": [
    "my_string.lower()"
   ]
  },
  {
   "cell_type": "markdown",
   "metadata": {},
   "source": [
    "### b)"
   ]
  },
  {
   "cell_type": "code",
   "execution_count": 9,
   "metadata": {},
   "outputs": [
    {
     "data": {
      "text/plain": [
       "'Thi;i;A;tring'"
      ]
     },
     "execution_count": 9,
     "metadata": {},
     "output_type": "execute_result"
    }
   ],
   "source": [
    "my_string.replace(\" \",\"\")"
   ]
  },
  {
   "cell_type": "markdown",
   "metadata": {},
   "source": [
    "### c)"
   ]
  },
  {
   "cell_type": "code",
   "execution_count": 11,
   "metadata": {},
   "outputs": [
    {
     "data": {
      "text/plain": [
       "'This is A string'"
      ]
     },
     "execution_count": 11,
     "metadata": {},
     "output_type": "execute_result"
    }
   ],
   "source": [
    "my_string.replace(';','s')"
   ]
  },
  {
   "cell_type": "markdown",
   "metadata": {},
   "source": [
    "### d)"
   ]
  },
  {
   "cell_type": "code",
   "execution_count": 14,
   "metadata": {},
   "outputs": [
    {
     "data": {
      "text/plain": [
       "['Thi;', 'i; A ;tring']"
      ]
     },
     "execution_count": 14,
     "metadata": {},
     "output_type": "execute_result"
    }
   ],
   "source": [
    "my_string.split(maxsplit = 1)"
   ]
  },
  {
   "cell_type": "code",
   "execution_count": 15,
   "metadata": {},
   "outputs": [
    {
     "data": {
      "text/plain": [
       "['Thi; i; A', ';tring']"
      ]
     },
     "execution_count": 15,
     "metadata": {},
     "output_type": "execute_result"
    }
   ],
   "source": [
    "my_string.rsplit(maxsplit = 1)"
   ]
  },
  {
   "cell_type": "markdown",
   "metadata": {},
   "source": [
    "s.split splits the string after the first space, whereas s.rsplit splits the string after the last split (i.e it splits from the first white space from the right. "
   ]
  },
  {
   "cell_type": "code",
   "execution_count": 20,
   "metadata": {},
   "outputs": [
    {
     "name": "stdout",
     "output_type": "stream",
     "text": [
      "This is A string\n"
     ]
    }
   ],
   "source": [
    "MS1 = my_string.replace(';','s')\n",
    "print(MS1)"
   ]
  },
  {
   "cell_type": "code",
   "execution_count": 25,
   "metadata": {},
   "outputs": [
    {
     "name": "stdout",
     "output_type": "stream",
     "text": [
      "a\n",
      "S\n"
     ]
    }
   ],
   "source": [
    "MS2 = MS1[8].lower()\n",
    "print(MS2)\n",
    "MS3 = MS1[10].upper()\n",
    "print(MS3)"
   ]
  },
  {
   "cell_type": "code",
   "execution_count": null,
   "metadata": {
    "collapsed": true
   },
   "outputs": [],
   "source": []
  },
  {
   "cell_type": "markdown",
   "metadata": {},
   "source": [
    "## Question 3\n",
    "\n",
    "<!-- This question tests idea of loops + list comprehensions -->\n",
    "\n",
    "(a) What is the type of `range(5)`? What is the type of `list(range(5))`?\n",
    "\n",
    "(b) Write a loop that sums all of the numbers from 0 to (not including) 100. Print the final sum.\n",
    "\n",
    "(c) Starting with the list `nums = [\"ten\", \"nine\", \"eight\", \"seven\", \"six\", \"five\"]` create a new list that has the length of each individual word using a loop or list comprehension. How many letters are there in total?\n",
    "\n",
    "(d) Challenging. Create a dictionary with the keys being the items in the list above and the values being the length of the of the item.\n",
    "\n",
    "(20 points)"
   ]
  },
  {
   "cell_type": "markdown",
   "metadata": {},
   "source": [
    "### a)"
   ]
  },
  {
   "cell_type": "code",
   "execution_count": 28,
   "metadata": {},
   "outputs": [
    {
     "data": {
      "text/plain": [
       "range"
      ]
     },
     "execution_count": 28,
     "metadata": {},
     "output_type": "execute_result"
    }
   ],
   "source": [
    "type(range(5))\n",
    "# A range(n) gives us all the integers (n) from 0 to n-1. "
   ]
  },
  {
   "cell_type": "markdown",
   "metadata": {},
   "source": [
    "### b)"
   ]
  },
  {
   "cell_type": "code",
   "execution_count": 37,
   "metadata": {},
   "outputs": [
    {
     "name": "stdout",
     "output_type": "stream",
     "text": [
      "4950\n"
     ]
    }
   ],
   "source": [
    "total = 0\n",
    "for number in range(0,100):\n",
    "    total = total + number\n",
    "print(total)"
   ]
  },
  {
   "cell_type": "markdown",
   "metadata": {},
   "source": [
    "### c)"
   ]
  },
  {
   "cell_type": "code",
   "execution_count": 38,
   "metadata": {
    "collapsed": true
   },
   "outputs": [],
   "source": [
    "nums = [\"ten\", \"nine\", \"eight\", \"seven\", \"six\", \"five\"]"
   ]
  },
  {
   "cell_type": "code",
   "execution_count": 47,
   "metadata": {},
   "outputs": [
    {
     "name": "stdout",
     "output_type": "stream",
     "text": [
      "3\n",
      "4\n",
      "5\n",
      "5\n",
      "3\n",
      "4\n"
     ]
    }
   ],
   "source": [
    "for item in nums:\n",
    "    numlist = (len(item))\n",
    "    print(numlist)"
   ]
  },
  {
   "cell_type": "code",
   "execution_count": 50,
   "metadata": {},
   "outputs": [],
   "source": [
    "result = []\n",
    "result.append(numlist)"
   ]
  },
  {
   "cell_type": "code",
   "execution_count": 54,
   "metadata": {},
   "outputs": [
    {
     "name": "stdout",
     "output_type": "stream",
     "text": [
      "None\n"
     ]
    }
   ],
   "source": [
    "print(result.append(numlist))\n",
    "# append the numlist into a list. "
   ]
  },
  {
   "cell_type": "code",
   "execution_count": 43,
   "metadata": {},
   "outputs": [
    {
     "name": "stdout",
     "output_type": "stream",
     "text": [
      "24\n"
     ]
    }
   ],
   "source": [
    "totallength = sum(len(item) for item in nums)\n",
    "print(totallength)"
   ]
  },
  {
   "cell_type": "markdown",
   "metadata": {},
   "source": [
    "### d)"
   ]
  },
  {
   "cell_type": "code",
   "execution_count": 46,
   "metadata": {},
   "outputs": [],
   "source": [
    "numlist_1 = [3,4,5,5,3,4]"
   ]
  },
  {
   "cell_type": "code",
   "execution_count": 64,
   "metadata": {
    "collapsed": true
   },
   "outputs": [],
   "source": [
    "nums = [\"ten\", \"nine\", \"eight\", \"seven\", \"six\", \"five\"]"
   ]
  },
  {
   "cell_type": "code",
   "execution_count": 71,
   "metadata": {
    "collapsed": true
   },
   "outputs": [],
   "source": [
    "dictionary = dict(zip(nums, numlist_1))"
   ]
  },
  {
   "cell_type": "code",
   "execution_count": 72,
   "metadata": {},
   "outputs": [
    {
     "name": "stdout",
     "output_type": "stream",
     "text": [
      "{'ten': 3, 'nine': 4, 'eight': 5, 'seven': 5, 'six': 3, 'five': 4}\n"
     ]
    }
   ],
   "source": [
    "print(dictionary)"
   ]
  },
  {
   "cell_type": "markdown",
   "metadata": {},
   "source": [
    "This is my final answer Above. The bottom is showing a list of tuples. "
   ]
  },
  {
   "cell_type": "code",
   "execution_count": 65,
   "metadata": {
    "collapsed": true
   },
   "outputs": [],
   "source": [
    "result = zip()"
   ]
  },
  {
   "cell_type": "code",
   "execution_count": 67,
   "metadata": {},
   "outputs": [
    {
     "name": "stdout",
     "output_type": "stream",
     "text": [
      "[]\n"
     ]
    }
   ],
   "source": [
    "resultlist = list(result)\n",
    "print(resultlist)"
   ]
  },
  {
   "cell_type": "code",
   "execution_count": 68,
   "metadata": {
    "collapsed": true
   },
   "outputs": [],
   "source": [
    "result = zip(nums,numlist_1)"
   ]
  },
  {
   "cell_type": "code",
   "execution_count": 69,
   "metadata": {
    "collapsed": true
   },
   "outputs": [],
   "source": [
    "resultset = set(result)"
   ]
  },
  {
   "cell_type": "code",
   "execution_count": 70,
   "metadata": {},
   "outputs": [
    {
     "name": "stdout",
     "output_type": "stream",
     "text": [
      "{('five', 4), ('six', 3), ('seven', 5), ('ten', 3), ('nine', 4), ('eight', 5)}\n"
     ]
    }
   ],
   "source": [
    "print(resultset)"
   ]
  },
  {
   "cell_type": "markdown",
   "metadata": {},
   "source": [
    "## Question 4\n",
    "\n",
    "<!-- This question is about defining functions, conditionals, and types --> \n",
    "\n",
    "(a) `def`ine your own function named `mymessage` that does the following:\n",
    "\n",
    "- Takes one argument named `x`\n",
    "- If `x` is a string or a list, it prints the length and the type of `x`\n",
    "- If `x` is neither, print a message reporting its type\n",
    "\n",
    "Hint: You will need to understand what the word `or` does. Think about what the following code is doing:\n",
    "\n",
    "```python\n",
    "print(True or False)\n",
    "print(True or True)\n",
    "print(False or False or False)\n",
    "print(False or False or True)\n",
    "```\n",
    "\n",
    "(10 points)"
   ]
  },
  {
   "cell_type": "markdown",
   "metadata": {},
   "source": [
    "(b) In the code block below you will find expressions that define variables `b1`, `b2`, `b3`, `b4`, and `b5`. \n",
    "\n",
    "```python\n",
    "b1 = 2*3\n",
    "b2 = 2.0*3\n",
    "b3 = 'Dave Backus'\n",
    "b4 = ['This', \"is\", 'not', \"a\", 'string']\n",
    "b5 = (b4[0], b4[2], b4[4])\n",
    "```\n",
    "\n",
    "For each of these cases apply your your function and verify that the output follows the instructions given in part (a). \n",
    "\n",
    "**If you are running out of time and your function from (a) is returning an error message or not delivering the desired result, describe what you think the problem is to get partial credit.**\n",
    "\n",
    "(10 points)"
   ]
  },
  {
   "cell_type": "markdown",
   "metadata": {
    "collapsed": true
   },
   "source": [
    "### a)"
   ]
  },
  {
   "cell_type": "code",
   "execution_count": 57,
   "metadata": {},
   "outputs": [],
   "source": [
    "def mymessage(x):\n",
    "    if type(x) == str or type(x) == list:\n",
    "        print(x, type(x))\n",
    "    else:\n",
    "        print(\"The type is\", type(x))"
   ]
  },
  {
   "cell_type": "markdown",
   "metadata": {},
   "source": [
    "### b)"
   ]
  },
  {
   "cell_type": "code",
   "execution_count": 58,
   "metadata": {
    "collapsed": true
   },
   "outputs": [],
   "source": [
    "b1 = 2*3\n",
    "b2 = 2.0*3\n",
    "b3 = 'Dave Backus'\n",
    "b4 = ['This', \"is\", 'not', \"a\", 'string']\n",
    "b5 = (b4[0], b4[2], b4[4])"
   ]
  },
  {
   "cell_type": "code",
   "execution_count": 59,
   "metadata": {},
   "outputs": [
    {
     "name": "stdout",
     "output_type": "stream",
     "text": [
      "The type is <class 'int'>\n"
     ]
    }
   ],
   "source": [
    "mymessage(b1)"
   ]
  },
  {
   "cell_type": "code",
   "execution_count": 60,
   "metadata": {},
   "outputs": [
    {
     "name": "stdout",
     "output_type": "stream",
     "text": [
      "The type is <class 'float'>\n"
     ]
    }
   ],
   "source": [
    "mymessage(b2)"
   ]
  },
  {
   "cell_type": "code",
   "execution_count": 61,
   "metadata": {},
   "outputs": [
    {
     "name": "stdout",
     "output_type": "stream",
     "text": [
      "Dave Backus <class 'str'>\n"
     ]
    }
   ],
   "source": [
    "mymessage(b3)"
   ]
  },
  {
   "cell_type": "code",
   "execution_count": 62,
   "metadata": {},
   "outputs": [
    {
     "name": "stdout",
     "output_type": "stream",
     "text": [
      "['This', 'is', 'not', 'a', 'string'] <class 'list'>\n"
     ]
    }
   ],
   "source": [
    "mymessage(b4)"
   ]
  },
  {
   "cell_type": "code",
   "execution_count": 63,
   "metadata": {},
   "outputs": [
    {
     "name": "stdout",
     "output_type": "stream",
     "text": [
      "The type is <class 'tuple'>\n"
     ]
    }
   ],
   "source": [
    "mymessage(b5)"
   ]
  }
 ],
 "metadata": {
  "anaconda-cloud": {},
  "hide_input": false,
  "kernelspec": {
   "display_name": "Python 3",
   "language": "python",
   "name": "python3"
  },
  "language_info": {
   "codemirror_mode": {
    "name": "ipython",
    "version": 3
   },
   "file_extension": ".py",
   "mimetype": "text/x-python",
   "name": "python",
   "nbconvert_exporter": "python",
   "pygments_lexer": "ipython3",
   "version": "3.6.3"
  }
 },
 "nbformat": 4,
 "nbformat_minor": 2
}
